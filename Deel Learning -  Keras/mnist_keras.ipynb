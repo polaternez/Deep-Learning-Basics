{
  "nbformat": 4,
  "nbformat_minor": 0,
  "metadata": {
    "colab": {
      "name": "mnist_keras.ipynb",
      "provenance": [],
      "collapsed_sections": [],
      "toc_visible": true
    },
    "kernelspec": {
      "name": "python3",
      "display_name": "Python 3"
    },
    "language_info": {
      "name": "python"
    },
    "accelerator": "GPU"
  },
  "cells": [
    {
      "cell_type": "markdown",
      "metadata": {
        "id": "kcfc2NTgBiAt"
      },
      "source": [
        "# Authentication"
      ]
    },
    {
      "cell_type": "code",
      "metadata": {
        "colab": {
          "base_uri": "https://localhost:8080/"
        },
        "id": "rjNSsJ10BCLh",
        "outputId": "6cd570ce-b7a0-43be-925a-2694de4fb9f8"
      },
      "source": [
        "from google.colab import drive\n",
        "drive.mount(\"/gdrive\")\n",
        "%cd \"/gdrive\""
      ],
      "execution_count": 1,
      "outputs": [
        {
          "output_type": "stream",
          "name": "stdout",
          "text": [
            "Drive already mounted at /gdrive; to attempt to forcibly remount, call drive.mount(\"/gdrive\", force_remount=True).\n",
            "/gdrive\n"
          ]
        }
      ]
    },
    {
      "cell_type": "code",
      "metadata": {
        "id": "E7BXksqTBRbV"
      },
      "source": [
        "import os \n",
        "os.chdir(\"/gdrive/My Drive/exercise/\")"
      ],
      "execution_count": 2,
      "outputs": []
    },
    {
      "cell_type": "code",
      "metadata": {
        "id": "ue1hFGRaBem2"
      },
      "source": [
        "!ls"
      ],
      "execution_count": null,
      "outputs": []
    },
    {
      "cell_type": "markdown",
      "metadata": {
        "id": "Xti_dMplzdDw"
      },
      "source": [
        "# Setup"
      ]
    },
    {
      "cell_type": "code",
      "metadata": {
        "id": "BYCzsGVgpLdc"
      },
      "source": [
        "import numpy as np\n",
        "import pandas as pd\n",
        "import matplotlib.pyplot as plt\n",
        "%matplotlib inline\n",
        "\n",
        "import tensorflow as tf \n",
        "import keras\n",
        "from keras.models import Sequential, load_model\n",
        "from keras import layers\n",
        "\n",
        "from keras.callbacks import EarlyStopping\n",
        "\n",
        "from keras.datasets import mnist"
      ],
      "execution_count": 4,
      "outputs": []
    },
    {
      "cell_type": "markdown",
      "metadata": {
        "id": "SCcVUYXbBnwe"
      },
      "source": [
        "# Preprocess Data"
      ]
    },
    {
      "cell_type": "code",
      "metadata": {
        "id": "u44aDUSUn-re"
      },
      "source": [
        "(X_train, y_train), (X_test, y_test) = mnist.load_data()"
      ],
      "execution_count": 5,
      "outputs": []
    },
    {
      "cell_type": "code",
      "metadata": {
        "colab": {
          "base_uri": "https://localhost:8080/"
        },
        "id": "qB-kELk7oVYs",
        "outputId": "c8df1ea5-1b0b-4bfa-e7d2-9784f477669b"
      },
      "source": [
        "print(X_train.shape)\n",
        "print(X_test.shape)"
      ],
      "execution_count": 6,
      "outputs": [
        {
          "output_type": "stream",
          "name": "stdout",
          "text": [
            "(60000, 28, 28)\n",
            "(10000, 28, 28)\n"
          ]
        }
      ]
    },
    {
      "cell_type": "code",
      "metadata": {
        "colab": {
          "base_uri": "https://localhost:8080/",
          "height": 395
        },
        "id": "fyiY_WjWptQl",
        "outputId": "2002e852-3726-438f-b349-0989e65d0984"
      },
      "source": [
        "plt.figure(figsize=(10, 7))\n",
        "\n",
        "for i in range(15):\n",
        "  plt.subplot(3, 5, i+1)\n",
        "  plt.imshow(X_train[i], cmap=\"gray\")\n",
        "  plt.axis(\"off\")\n",
        "\n"
      ],
      "execution_count": 7,
      "outputs": [
        {
          "output_type": "display_data",
          "data": {
            "image/png": "[encoded data removed]",
            "text/plain": [
              "<Figure size 720x504 with 15 Axes>"
            ]
          },
          "metadata": {
            "needs_background": "light"
          }
        }
      ]
    },
    {
      "cell_type": "code",
      "metadata": {
        "id": "2VcMrW5coLw4"
      },
      "source": [
        "X_train = X_train.reshape(-1,28, 28, 1).astype(\"float32\")\n",
        "X_test = X_test.reshape(-1, 28, 28, 1).astype(\"float32\")\n",
        "\n",
        "X_train /= 255\n",
        "X_test /=255"
      ],
      "execution_count": 8,
      "outputs": []
    },
    {
      "cell_type": "code",
      "metadata": {
        "id": "sxGRnZD6orLx"
      },
      "source": [
        "y_train = tf.keras.utils.to_categorical(y_train)\n",
        "y_test = tf.keras.utils.to_categorical(y_test)"
      ],
      "execution_count": 9,
      "outputs": []
    },
    {
      "cell_type": "code",
      "metadata": {
        "colab": {
          "base_uri": "https://localhost:8080/"
        },
        "id": "o2t987mlpHZ-",
        "outputId": "e93d0923-911b-4ecd-f43d-828bb997fcd2"
      },
      "source": [
        "print(y_train.shape)\n",
        "print(y_test.shape)"
      ],
      "execution_count": 10,
      "outputs": [
        {
          "output_type": "stream",
          "name": "stdout",
          "text": [
            "(60000, 10)\n",
            "(10000, 10)\n"
          ]
        }
      ]
    },
    {
      "cell_type": "markdown",
      "metadata": {
        "id": "JY84A1rgsEaj"
      },
      "source": [
        "# Create Model"
      ]
    },
    {
      "cell_type": "code",
      "metadata": {
        "id": "AqI9FsNUsHqg"
      },
      "source": [
        "model = Sequential()\n",
        "\n",
        "model.add(layers.Conv2D(32, 3, padding=\"same\", activation=\"relu\", input_shape=(28, 28, 1)))\n",
        "model.add(layers.MaxPool2D(pool_size=(2,2)))\n",
        "\n",
        "model.add(layers.Conv2D(64, 3, padding=\"same\", activation=\"relu\"))\n",
        "model.add(layers.MaxPool2D(pool_size=(2,2)))\n",
        "\n",
        "model.add(layers.Conv2D(64, 3, padding=\"same\", activation=\"relu\"))\n",
        "model.add(layers.MaxPool2D(pool_size=(2,2)))\n",
        "\n",
        "model.add(layers.Flatten())\n",
        "  \n",
        "model.add(layers.Dense(64, activation=\"relu\"))\n",
        "model.add(layers.Dense(10, activation=\"softmax\"))"
      ],
      "execution_count": 11,
      "outputs": []
    },
    {
      "cell_type": "code",
      "metadata": {
        "colab": {
          "base_uri": "https://localhost:8080/"
        },
        "id": "_0H3E2mFtZHE",
        "outputId": "56367bd8-dc84-49a2-91c7-f161053f7aba"
      },
      "source": [
        "model.summary()"
      ],
      "execution_count": 12,
      "outputs": [
        {
          "output_type": "stream",
          "name": "stdout",
          "text": [
            "Model: \"sequential\"\n",
            "_________________________________________________________________\n",
            "Layer (type)                 Output Shape              Param #   \n",
            "=================================================================\n",
            "conv2d (Conv2D)              (None, 28, 28, 32)        320       \n",
            "_________________________________________________________________\n",
            "max_pooling2d (MaxPooling2D) (None, 14, 14, 32)        0         \n",
            "_________________________________________________________________\n",
            "conv2d_1 (Conv2D)            (None, 14, 14, 64)        18496     \n",
            "_________________________________________________________________\n",
            "max_pooling2d_1 (MaxPooling2 (None, 7, 7, 64)          0         \n",
            "_________________________________________________________________\n",
            "conv2d_2 (Conv2D)            (None, 7, 7, 64)          36928     \n",
            "_________________________________________________________________\n",
            "max_pooling2d_2 (MaxPooling2 (None, 3, 3, 64)          0         \n",
            "_________________________________________________________________\n",
            "flatten (Flatten)            (None, 576)               0         \n",
            "_________________________________________________________________\n",
            "dense (Dense)                (None, 64)                36928     \n",
            "_________________________________________________________________\n",
            "dense_1 (Dense)              (None, 10)                650       \n",
            "=================================================================\n",
            "Total params: 93,322\n",
            "Trainable params: 93,322\n",
            "Non-trainable params: 0\n",
            "_________________________________________________________________\n"
          ]
        }
      ]
    },
    {
      "cell_type": "code",
      "metadata": {
        "id": "CRG0TzsuwPo7"
      },
      "source": [
        "model.compile(optimizer=\"rmsprop\",\n",
        "              loss=\"categorical_crossentropy\",\n",
        "              metrics=[\"accuracy\"])"
      ],
      "execution_count": 13,
      "outputs": []
    },
    {
      "cell_type": "markdown",
      "metadata": {
        "id": "VqQstMYLutLL"
      },
      "source": [
        "# Train Model"
      ]
    },
    {
      "cell_type": "code",
      "metadata": {
        "id": "K-Nx_Ji92N-Y"
      },
      "source": [
        "batch_size = 16\n",
        "epochs = 6"
      ],
      "execution_count": 14,
      "outputs": []
    },
    {
      "cell_type": "code",
      "metadata": {
        "id": "EcGgrny-2Tr3"
      },
      "source": [
        "early_stop = EarlyStopping(monitor=\"val_loss\", mode=\"min\", patience=5)"
      ],
      "execution_count": 15,
      "outputs": []
    },
    {
      "cell_type": "code",
      "metadata": {
        "colab": {
          "base_uri": "https://localhost:8080/"
        },
        "id": "7GYIPNTpusLC",
        "outputId": "5c033a0e-1901-4e12-a664-ebe4300f76dc"
      },
      "source": [
        "hist = model.fit(X_train, y_train, batch_size=batch_size, epochs=epochs, callbacks=[early_stop], validation_data=(X_test, y_test))"
      ],
      "execution_count": 16,
      "outputs": [
        {
          "output_type": "stream",
          "name": "stdout",
          "text": [
            "Epoch 1/6\n",
            "3750/3750 [==============================] - 54s 6ms/step - loss: 0.1257 - accuracy: 0.9610 - val_loss: 0.0561 - val_accuracy: 0.9804\n",
            "Epoch 2/6\n",
            "3750/3750 [==============================] - 23s 6ms/step - loss: 0.0443 - accuracy: 0.9869 - val_loss: 0.0382 - val_accuracy: 0.9882\n",
            "Epoch 3/6\n",
            "3750/3750 [==============================] - 23s 6ms/step - loss: 0.0359 - accuracy: 0.9902 - val_loss: 0.0305 - val_accuracy: 0.9912\n",
            "Epoch 4/6\n",
            "3750/3750 [==============================] - 23s 6ms/step - loss: 0.0313 - accuracy: 0.9914 - val_loss: 0.0452 - val_accuracy: 0.9870\n",
            "Epoch 5/6\n",
            "3750/3750 [==============================] - 23s 6ms/step - loss: 0.0281 - accuracy: 0.9930 - val_loss: 0.0394 - val_accuracy: 0.9892\n",
            "Epoch 6/6\n",
            "3750/3750 [==============================] - 23s 6ms/step - loss: 0.0268 - accuracy: 0.9935 - val_loss: 0.0383 - val_accuracy: 0.9908\n"
          ]
        }
      ]
    },
    {
      "cell_type": "markdown",
      "metadata": {
        "id": "bk6D7NvYGGxW"
      },
      "source": [
        "# Evaluate Model"
      ]
    },
    {
      "cell_type": "code",
      "metadata": {
        "colab": {
          "base_uri": "https://localhost:8080/",
          "height": 232
        },
        "id": "snBWPAQxu89j",
        "outputId": "153748d2-79ab-4ba7-cd28-0d8a29627f14"
      },
      "source": [
        "loss_df = pd.DataFrame(hist.history)\n",
        "loss_df"
      ],
      "execution_count": 17,
      "outputs": [
        {
          "output_type": "execute_result",
          "data": {
            "text/html": [
              "<div>\n",
              "<style scoped>\n",
              "    .dataframe tbody tr th:only-of-type {\n",
              "        vertical-align: middle;\n",
              "    }\n",
              "\n",
              "    .dataframe tbody tr th {\n",
              "        vertical-align: top;\n",
              "    }\n",
              "\n",
              "    .dataframe thead th {\n",
              "        text-align: right;\n",
              "    }\n",
              "</style>\n",
              "<table border=\"1\" class=\"dataframe\">\n",
              "  <thead>\n",
              "    <tr style=\"text-align: right;\">\n",
              "      <th></th>\n",
              "      <th>loss</th>\n",
              "      <th>accuracy</th>\n",
              "      <th>val_loss</th>\n",
              "      <th>val_accuracy</th>\n",
              "    </tr>\n",
              "  </thead>\n",
              "  <tbody>\n",
              "    <tr>\n",
              "      <th>0</th>\n",
              "      <td>0.125697</td>\n",
              "      <td>0.961000</td>\n",
              "      <td>0.056100</td>\n",
              "      <td>0.9804</td>\n",
              "    </tr>\n",
              "    <tr>\n",
              "      <th>1</th>\n",
              "      <td>0.044251</td>\n",
              "      <td>0.986933</td>\n",
              "      <td>0.038193</td>\n",
              "      <td>0.9882</td>\n",
              "    </tr>\n",
              "    <tr>\n",
              "      <th>2</th>\n",
              "      <td>0.035913</td>\n",
              "      <td>0.990167</td>\n",
              "      <td>0.030473</td>\n",
              "      <td>0.9912</td>\n",
              "    </tr>\n",
              "    <tr>\n",
              "      <th>3</th>\n",
              "      <td>0.031341</td>\n",
              "      <td>0.991383</td>\n",
              "      <td>0.045245</td>\n",
              "      <td>0.9870</td>\n",
              "    </tr>\n",
              "    <tr>\n",
              "      <th>4</th>\n",
              "      <td>0.028068</td>\n",
              "      <td>0.992983</td>\n",
              "      <td>0.039374</td>\n",
              "      <td>0.9892</td>\n",
              "    </tr>\n",
              "    <tr>\n",
              "      <th>5</th>\n",
              "      <td>0.026847</td>\n",
              "      <td>0.993533</td>\n",
              "      <td>0.038312</td>\n",
              "      <td>0.9908</td>\n",
              "    </tr>\n",
              "  </tbody>\n",
              "</table>\n",
              "</div>"
            ],
            "text/plain": [
              "       loss  accuracy  val_loss  val_accuracy\n",
              "0  0.125697  0.961000  0.056100        0.9804\n",
              "1  0.044251  0.986933  0.038193        0.9882\n",
              "2  0.035913  0.990167  0.030473        0.9912\n",
              "3  0.031341  0.991383  0.045245        0.9870\n",
              "4  0.028068  0.992983  0.039374        0.9892\n",
              "5  0.026847  0.993533  0.038312        0.9908"
            ]
          },
          "metadata": {},
          "execution_count": 17
        }
      ]
    },
    {
      "cell_type": "code",
      "metadata": {
        "colab": {
          "base_uri": "https://localhost:8080/",
          "height": 568
        },
        "id": "DrEwjQjH3meU",
        "outputId": "759f78b8-c07c-4b99-ff17-c21c4f410ec3"
      },
      "source": [
        "plt.figure(figsize=(6, 9))\n",
        "plt.subplot(2, 1, 1)\n",
        "plt.plot(range(len(loss_df)), loss_df[\"loss\"], label=\"loss\")\n",
        "plt.plot(range(len(loss_df)), loss_df[\"val_loss\"], label=\"val_loss\")\n",
        "plt.xlabel(\"epochs\")\n",
        "plt.ylabel(\"loss\")\n",
        "plt.legend()\n",
        "\n",
        "plt.subplot(2, 1, 2)\n",
        "plt.plot(range(len(loss_df)), loss_df[\"accuracy\"], label=\"accuracy\")\n",
        "plt.plot(range(len(loss_df)), loss_df[\"val_accuracy\"], label=\"val_accuracy\")\n",
        "plt.xlabel(\"epochs\")\n",
        "plt.ylabel(\"accuracy\")\n",
        "plt.legend()"
      ],
      "execution_count": 18,
      "outputs": [
        {
          "output_type": "execute_result",
          "data": {
            "text/plain": [
              "<matplotlib.legend.Legend at 0x7ff266070fd0>"
            ]
          },
          "metadata": {},
          "execution_count": 18
        },
        {
          "output_type": "display_data",
          "data": {
            "image/png": "[encoded data removed]",
            "text/plain": [
              "<Figure size 432x648 with 2 Axes>"
            ]
          },
          "metadata": {
            "needs_background": "light"
          }
        }
      ]
    },
    {
      "cell_type": "code",
      "metadata": {
        "colab": {
          "base_uri": "https://localhost:8080/"
        },
        "id": "VEISH-nHGMZt",
        "outputId": "6b60091e-eb0b-4b92-b163-b87d208a90d5"
      },
      "source": [
        "scores = model.evaluate(X_test, y_test)\n",
        "\n",
        "print(\"Test Loss:\", scores[0])\n",
        "print(\"Test Accuracy:\", scores[1])"
      ],
      "execution_count": 19,
      "outputs": [
        {
          "output_type": "stream",
          "name": "stdout",
          "text": [
            "313/313 [==============================] - 2s 5ms/step - loss: 0.0383 - accuracy: 0.9908\n",
            "Test Loss: 0.03831205889582634\n",
            "Test Accuracy: 0.9908000230789185\n"
          ]
        }
      ]
    },
    {
      "cell_type": "markdown",
      "metadata": {
        "id": "cnH1QBSqm2dQ"
      },
      "source": [
        "# Save Model"
      ]
    },
    {
      "cell_type": "code",
      "metadata": {
        "id": "gNBT12-UGQCT"
      },
      "source": [
        "#model.save(\"save_models/mnist_model.h5\")\n",
        "loaded_model = load_model(\"save_models/mnist_model.h5\")\n"
      ],
      "execution_count": 20,
      "outputs": []
    },
    {
      "cell_type": "markdown",
      "metadata": {
        "id": "Spj2v64wmVK9"
      },
      "source": [
        "# Predictions"
      ]
    },
    {
      "cell_type": "code",
      "metadata": {
        "colab": {
          "base_uri": "https://localhost:8080/"
        },
        "id": "AMJ7Zi_gmR9p",
        "outputId": "aeff2a82-29d3-41a4-eec3-845f0cef0b2b"
      },
      "source": [
        "new_image = X_test[22].reshape(-1, 28, 28, 1)\n",
        "y_test[22]"
      ],
      "execution_count": 21,
      "outputs": [
        {
          "output_type": "execute_result",
          "data": {
            "text/plain": [
              "array([0., 0., 0., 0., 0., 0., 1., 0., 0., 0.], dtype=float32)"
            ]
          },
          "metadata": {},
          "execution_count": 21
        }
      ]
    },
    {
      "cell_type": "code",
      "metadata": {
        "colab": {
          "base_uri": "https://localhost:8080/",
          "height": 282
        },
        "id": "Y8nJ6J9Umcxh",
        "outputId": "b86bfd03-aa24-4956-d9c6-44eb700892fa"
      },
      "source": [
        "plt.imshow(new_image.reshape(28, 28))"
      ],
      "execution_count": 22,
      "outputs": [
        {
          "output_type": "execute_result",
          "data": {
            "text/plain": [
              "<matplotlib.image.AxesImage at 0x7ff2603335d0>"
            ]
          },
          "metadata": {},
          "execution_count": 22
        },
        {
          "output_type": "display_data",
          "data": {
            "image/png": "[encoded data removed]",
            "text/plain": [
              "<Figure size 432x288 with 1 Axes>"
            ]
          },
          "metadata": {
            "needs_background": "light"
          }
        }
      ]
    },
    {
      "cell_type": "code",
      "metadata": {
        "colab": {
          "base_uri": "https://localhost:8080/"
        },
        "id": "HGwWBtQ4rbjF",
        "outputId": "c3e6f96a-0f01-410a-fe67-105523430d86"
      },
      "source": [
        "pred = loaded_model.predict(new_image)\n",
        "pred.argmax()"
      ],
      "execution_count": 23,
      "outputs": [
        {
          "output_type": "execute_result",
          "data": {
            "text/plain": [
              "6"
            ]
          },
          "metadata": {},
          "execution_count": 23
        }
      ]
    }
  ]
}